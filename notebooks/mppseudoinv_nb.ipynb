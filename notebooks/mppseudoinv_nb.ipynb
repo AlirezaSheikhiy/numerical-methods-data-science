{
 "cells": [
  {
   "cell_type": "markdown",
   "id": "fc905cf0-adb5-4dbc-8e3b-eb02e719682a",
   "metadata": {},
   "source": [
    "<h1 align=\"center\">Moore-Penrose Pseudoinverse</h1>"
   ]
  },
  {
   "cell_type": "markdown",
   "id": "75c59170-5a8f-44e7-9172-4dd4cbba8f5a",
   "metadata": {},
   "source": [
    "### Import required libraries"
   ]
  },
  {
   "cell_type": "code",
   "execution_count": 65,
   "id": "46c18009-a100-43a9-b6e4-6c67e2c16699",
   "metadata": {},
   "outputs": [],
   "source": [
    "from svd import SVD, rank\n",
    "import numpy as np\n",
    "import pandas as pd"
   ]
  },
  {
   "cell_type": "markdown",
   "id": "ebb1ae68-6537-4a90-b7f0-bfa98e64635d",
   "metadata": {},
   "source": [
    "### Moore-Penrose Inverse method"
   ]
  },
  {
   "cell_type": "code",
   "execution_count": 66,
   "id": "23646a82-b1ad-4902-82b5-b4882f9a2866",
   "metadata": {},
   "outputs": [],
   "source": [
    "def moore_penrose_inv(A):\n",
    "    U, S, VT = SVD(A)\n",
    "    S_plus = S.T\n",
    "    for i in range(rank(A)):\n",
    "        S_plus[i,i] = 1 / S_plus[i,i]\n",
    "    # S_plus = np.linalg.inv(S)\n",
    "    A_plus = VT.T @ S_plus @ U.T\n",
    "    return A_plus, S_plus"
   ]
  },
  {
   "cell_type": "markdown",
   "id": "7e42c4c5-ab11-404b-8ec6-1a5b2b68ac78",
   "metadata": {},
   "source": [
    "### Driver code"
   ]
  },
  {
   "cell_type": "code",
   "execution_count": 67,
   "id": "8829d7db-2ca0-48f8-9fc8-1a0464ef3c66",
   "metadata": {},
   "outputs": [],
   "source": [
    "# Initialize matrix 'A'\n",
    "A = np.array([[0.96, 1.72], [2.28, 0.96]])\n",
    "# A = np.array([[0, -1.6, 0.6], [0, 1.2, 0.8], [0, 0, 0], [0, 0, 0]])\n",
    "# A = np.array([[-2, 1, 2], [6, 6, 2]])"
   ]
  },
  {
   "cell_type": "code",
   "execution_count": 68,
   "id": "506ff25a-9500-4460-8c78-4c932ed1bbf4",
   "metadata": {},
   "outputs": [],
   "source": [
    "# Using moore_penrose_inv() method to calculate inverse\n",
    "A_plus, S_plus = moore_penrose_inv(A)"
   ]
  },
  {
   "cell_type": "code",
   "execution_count": 91,
   "id": "f5f61ddf-3762-43cf-9fc6-815ab3507ed7",
   "metadata": {},
   "outputs": [
    {
     "name": "stdout",
     "output_type": "stream",
     "text": [
      "A_plus =\n",
      " 0.32 -0.5733\n",
      "-0.76  0.3200\n",
      "\n",
      "S_plus =\n",
      "0.3333 0.0\n",
      "0.0000 1.0\n"
     ]
    }
   ],
   "source": [
    "# Print the results\n",
    "print(\"A_plus =\")\n",
    "print(pd.DataFrame(A_plus.round(4)).to_string(index=False, header=False))\n",
    "print(\"\\nS_plus =\")\n",
    "print(pd.DataFrame(S_plus.round(4)).to_string(index=False, header=False))"
   ]
  }
 ],
 "metadata": {
  "kernelspec": {
   "display_name": "Python 3 (ipykernel)",
   "language": "python",
   "name": "python3"
  },
  "language_info": {
   "codemirror_mode": {
    "name": "ipython",
    "version": 3
   },
   "file_extension": ".py",
   "mimetype": "text/x-python",
   "name": "python",
   "nbconvert_exporter": "python",
   "pygments_lexer": "ipython3",
   "version": "3.12.5"
  }
 },
 "nbformat": 4,
 "nbformat_minor": 5
}
