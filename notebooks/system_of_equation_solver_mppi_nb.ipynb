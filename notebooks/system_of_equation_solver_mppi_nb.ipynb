{
 "cells": [
  {
   "cell_type": "markdown",
   "id": "fc905cf0-adb5-4dbc-8e3b-eb02e719682a",
   "metadata": {},
   "source": [
    "<h1 align=\"center\">Solving a System of Equations<br>using Moore-Penrose Pseudoinverse</h1>"
   ]
  },
  {
   "cell_type": "markdown",
   "id": "75c59170-5a8f-44e7-9172-4dd4cbba8f5a",
   "metadata": {},
   "source": [
    "### Import required libraries"
   ]
  },
  {
   "cell_type": "code",
   "execution_count": 2,
   "id": "46c18009-a100-43a9-b6e4-6c67e2c16699",
   "metadata": {},
   "outputs": [],
   "source": [
    "from mppseudoinv import moore_penrose_inv\n",
    "import numpy as np\n",
    "import pandas as pd"
   ]
  },
  {
   "cell_type": "markdown",
   "id": "7e42c4c5-ab11-404b-8ec6-1a5b2b68ac78",
   "metadata": {},
   "source": [
    "### Initialize the system of equations"
   ]
  },
  {
   "cell_type": "code",
   "execution_count": 8,
   "id": "8829d7db-2ca0-48f8-9fc8-1a0464ef3c66",
   "metadata": {},
   "outputs": [],
   "source": [
    "A = np.array([[1, 2], [2, 1], [-3, 1], [-1, -3]])\n",
    "b = np.array([[3, 3, -1, -4]])"
   ]
  },
  {
   "cell_type": "markdown",
   "id": "9c57c1ef-c206-41dd-ac6d-dddb04099fd3",
   "metadata": {},
   "source": [
    "### Calculate the pseudoinverse"
   ]
  },
  {
   "cell_type": "code",
   "execution_count": 9,
   "id": "506ff25a-9500-4460-8c78-4c932ed1bbf4",
   "metadata": {},
   "outputs": [],
   "source": [
    "A_plus, _ = moore_penrose_inv(A)"
   ]
  },
  {
   "cell_type": "markdown",
   "id": "6e25655b-0182-4800-afed-32a04acffbd9",
   "metadata": {},
   "source": [
    "### Solve the system of equations"
   ]
  },
  {
   "cell_type": "code",
   "execution_count": 13,
   "id": "2ddccafa-4ada-42fa-9d52-fb0a6c81ab93",
   "metadata": {},
   "outputs": [],
   "source": [
    "x = A_plus @ b.T"
   ]
  },
  {
   "cell_type": "markdown",
   "id": "100c3883-3f72-4f0d-aac6-597669ccf77c",
   "metadata": {},
   "source": [
    "### Print the results"
   ]
  },
  {
   "cell_type": "code",
   "execution_count": null,
   "id": "d26eff5c-632a-4558-9798-0632e70c1270",
   "metadata": {},
   "outputs": [
    {
     "name": "stdout",
     "output_type": "stream",
     "text": [
      "x =\n",
      "-0.7656\n",
      "-1.1292\n"
     ]
    }
   ],
   "source": [
    "print(\"x =\")\n",
    "print(pd.DataFrame(x.round(4)).to_string(index=False, header=False))"
   ]
  }
 ],
 "metadata": {
  "kernelspec": {
   "display_name": "Python 3 (ipykernel)",
   "language": "python",
   "name": "python3"
  },
  "language_info": {
   "codemirror_mode": {
    "name": "ipython",
    "version": 3
   },
   "file_extension": ".py",
   "mimetype": "text/x-python",
   "name": "python",
   "nbconvert_exporter": "python",
   "pygments_lexer": "ipython3",
   "version": "3.12.5"
  }
 },
 "nbformat": 4,
 "nbformat_minor": 5
}
