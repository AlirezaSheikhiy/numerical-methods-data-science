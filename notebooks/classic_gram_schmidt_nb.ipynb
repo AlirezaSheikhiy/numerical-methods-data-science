{
 "cells": [
  {
   "cell_type": "markdown",
   "id": "66adb6cd-ffb1-4ccb-b991-c05a16ec46bc",
   "metadata": {},
   "source": [
    "<h1 align=\"center\"> Classic Gram-Schmidt Algorithm</h1>"
   ]
  },
  {
   "cell_type": "code",
   "execution_count": 3,
   "id": "a6407b21-fb9a-4f4f-a7d7-a1b190fdac79",
   "metadata": {},
   "outputs": [],
   "source": [
    "import numpy as np"
   ]
  },
  {
   "cell_type": "markdown",
   "id": "6ce7d866-d0d7-4cd3-aeeb-3ff47134708e",
   "metadata": {},
   "source": [
    "## Gram-Schmidt method"
   ]
  },
  {
   "cell_type": "code",
   "execution_count": 4,
   "id": "3c95584b-d9e0-4fba-bc0e-2b2b920eff39",
   "metadata": {},
   "outputs": [],
   "source": [
    "def gram_schmidt(A):\n",
    "    # Validate input\n",
    "    if not isinstance(A, np.ndarray):\n",
    "        raise ValueError(\"Input must be a numpy array.\")\n",
    "\n",
    "    m, n = A.shape\n",
    "    if m < n:\n",
    "        raise ValueError(\n",
    "            \"Number of rows must be greater than or equal to the number of columns.\")\n",
    "\n",
    "    # Initialize Q and R\n",
    "    Q = np.zeros_like(A)\n",
    "    R = np.zeros((n, n))\n",
    "\n",
    "    for j in range(n):\n",
    "        # Start with the j-th column of A\n",
    "        b_j = A[:, j].copy()\n",
    "\n",
    "        # Subtract the projections onto the previous q_i's\n",
    "        for i in range(j):\n",
    "            R[i, j] = np.dot(Q[:, i], A[:, j])\n",
    "            b_j -= R[i, j] * Q[:, i]\n",
    "\n",
    "        # Normalize b_j to get q_j\n",
    "        R[j, j] = np.linalg.norm(b_j)\n",
    "        if R[j, j] == 0:\n",
    "            raise ValueError(\"Matrix A contains linearly dependent columns.\")\n",
    "        Q[:, j] = b_j / R[j, j]\n",
    "\n",
    "    return Q, R"
   ]
  },
  {
   "cell_type": "markdown",
   "id": "899a33b8-ca12-4ccf-924c-f433962d7b1a",
   "metadata": {},
   "source": [
    "## Driver code"
   ]
  },
  {
   "cell_type": "markdown",
   "id": "3231e61c-fd01-488c-b804-ef23e2e8bd47",
   "metadata": {},
   "source": [
    "### Define a matrix A"
   ]
  },
  {
   "cell_type": "code",
   "execution_count": 5,
   "id": "69611f15-925d-4227-8d87-2447ca7d1041",
   "metadata": {},
   "outputs": [],
   "source": [
    "A = np.array([[2, 4, -4], [1, 5, -5], [2, 10, 5]], dtype=float)\n",
    "# A = np.array([[1, 2, -1], [1, -1, 2], [1, -1, 2], [-1, 1, 1]], dtype=float)"
   ]
  },
  {
   "cell_type": "markdown",
   "id": "635f7018-961f-4a9a-babd-be61c0fe3c45",
   "metadata": {},
   "source": [
    "### Perform QR decomposition"
   ]
  },
  {
   "cell_type": "code",
   "execution_count": 6,
   "id": "9e5b03bc-a017-4486-bcc8-b2e125bd389a",
   "metadata": {},
   "outputs": [],
   "source": [
    "Q, R = gram_schmidt(A)"
   ]
  },
  {
   "cell_type": "markdown",
   "id": "b9a32b8a-2570-4729-955f-b7f1ae29a687",
   "metadata": {},
   "source": [
    "### Print the results"
   ]
  },
  {
   "cell_type": "code",
   "execution_count": 7,
   "id": "6dd14fbe-6e10-4bf7-991b-0d5affff5690",
   "metadata": {},
   "outputs": [
    {
     "name": "stdout",
     "output_type": "stream",
     "text": [
      "A =\n",
      "[[ 2.  4. -4.]\n",
      " [ 1.  5. -5.]\n",
      " [ 2. 10.  5.]]\n",
      "\n",
      "Q =\n",
      "[[ 6.66666667e-01 -7.45355992e-01 -1.98602732e-16]\n",
      " [ 3.33333333e-01  2.98142397e-01 -8.94427191e-01]\n",
      " [ 6.66666667e-01  5.96284794e-01  4.47213595e-01]]\n",
      "\n",
      "R =\n",
      "[[ 3.         11.         -1.        ]\n",
      " [ 0.          4.47213595  4.47213595]\n",
      " [ 0.          0.          6.70820393]]\n"
     ]
    }
   ],
   "source": [
    "print(f\"A =\\n{A}\\n\\nQ =\\n{Q}\\n\\nR =\\n{R}\")"
   ]
  },
  {
   "cell_type": "markdown",
   "id": "6673387e-ae95-4bfb-b0dc-01b5e3183db9",
   "metadata": {},
   "source": [
    "### Verify that A = QR (Should print True)"
   ]
  },
  {
   "cell_type": "code",
   "execution_count": 8,
   "id": "b767c193-6bb9-4e52-b1fe-deccd983ff3d",
   "metadata": {},
   "outputs": [
    {
     "name": "stdout",
     "output_type": "stream",
     "text": [
      "\n",
      "Verification (A = QR): True\n",
      "[[ 2.  4. -4.]\n",
      " [ 1.  5. -5.]\n",
      " [ 2. 10.  5.]]\n"
     ]
    }
   ],
   "source": [
    "print(f\"\\nVerification (A = QR): {np.allclose(A, Q @ R)}\")\n",
    "print(Q @ R)"
   ]
  }
 ],
 "metadata": {
  "kernelspec": {
   "display_name": "Python 3 (ipykernel)",
   "language": "python",
   "name": "python3"
  },
  "language_info": {
   "codemirror_mode": {
    "name": "ipython",
    "version": 3
   },
   "file_extension": ".py",
   "mimetype": "text/x-python",
   "name": "python",
   "nbconvert_exporter": "python",
   "pygments_lexer": "ipython3",
   "version": "3.12.5"
  }
 },
 "nbformat": 4,
 "nbformat_minor": 5
}
