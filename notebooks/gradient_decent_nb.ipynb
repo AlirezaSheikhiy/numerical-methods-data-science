{
 "cells": [
  {
   "cell_type": "markdown",
   "id": "ebb8a766-d71a-4f82-8c98-a3e372e46d7b",
   "metadata": {},
   "source": [
    "<h1 align=\"center\">Gradient Descent (GD)</h1>"
   ]
  },
  {
   "cell_type": "markdown",
   "id": "4889c0be-f628-4b61-8c74-1db110df4bbb",
   "metadata": {},
   "source": [
    "### Import required libraries"
   ]
  },
  {
   "cell_type": "code",
   "execution_count": 106,
   "id": "b6119f0c-517d-4156-b5a0-f9ab8fb04a57",
   "metadata": {},
   "outputs": [],
   "source": [
    "import time\n",
    "import numpy as np"
   ]
  },
  {
   "cell_type": "markdown",
   "id": "a025c6f4-6934-4961-853d-d482038a11ae",
   "metadata": {},
   "source": [
    "### Initializing the problem"
   ]
  },
  {
   "cell_type": "code",
   "execution_count": 75,
   "id": "ab791ebc-5009-4b70-a78e-2ca765c078e2",
   "metadata": {},
   "outputs": [],
   "source": [
    "A = np.array([[1, 2, 3], [1, -1, 1], [1, -1, 0]])\n",
    "b = np.array([[2, 1, 0]]).T"
   ]
  },
  {
   "cell_type": "markdown",
   "id": "a5762349-4ef1-4d03-b282-23b89787e23c",
   "metadata": {},
   "source": [
    "### Converting matrix `A` to a **Positive Definite** and **Symmetric** matrix"
   ]
  },
  {
   "cell_type": "code",
   "execution_count": 76,
   "id": "608d1bf8-ba84-488d-be51-446acaf0872e",
   "metadata": {},
   "outputs": [],
   "source": [
    "eps = np.finfo(np.float64).eps\n",
    "A = A.T @ A\n",
    "I = np.eye(A.shape[0])\n",
    "A = A.T @ A + eps * I"
   ]
  },
  {
   "cell_type": "markdown",
   "id": "a81a4306-a619-497f-a823-c30250c01c4b",
   "metadata": {},
   "source": [
    "### Setting the hyper-parameters"
   ]
  },
  {
   "cell_type": "code",
   "execution_count": 119,
   "id": "d8371cc3-d3eb-4865-993c-89e6586bf584",
   "metadata": {},
   "outputs": [],
   "source": [
    "x_0 = np.array([[1, 1, 1]]).T\n",
    "treshold = 1e-6"
   ]
  },
  {
   "cell_type": "markdown",
   "id": "13ba5492-79dd-4554-9cb1-510677b4c4bc",
   "metadata": {},
   "source": [
    "### Gradient-Descent algorithm"
   ]
  },
  {
   "cell_type": "code",
   "execution_count": 120,
   "id": "ab8b3e3c-c624-4cf2-b107-c7014b5ba2ae",
   "metadata": {},
   "outputs": [],
   "source": [
    "k = 0\n",
    "x_k = x_0\n",
    "start_time = time.time()\n",
    "while True:\n",
    "    r_k = b - A @ x_k\n",
    "    a_k = (r_k.T @ r_k) / (r_k.T @ A @ r_k)\n",
    "    x_k_plus_1 = x_k + a_k * r_k\n",
    "    k+=1\n",
    "    if np.linalg.norm(x_k_plus_1 - x_k, ord=2) <= treshold:\n",
    "        break\n",
    "    x_k = x_k_plus_1\n",
    "elapsed_time = time.time() - start_time"
   ]
  },
  {
   "cell_type": "markdown",
   "id": "e0db7aad-9f83-4504-a2f1-431770e9ad1b",
   "metadata": {},
   "source": [
    "### Print the results"
   ]
  },
  {
   "cell_type": "code",
   "execution_count": 124,
   "id": "4d8f9f9e-7155-4d28-b72c-7ff7c7af7abf",
   "metadata": {},
   "outputs": [
    {
     "name": "stdout",
     "output_type": "stream",
     "text": [
      "Number of iterations: 22524\n",
      "Time elapsed: 1.8429 seconds\n",
      "Treshold: 1e-06\n",
      "norm_2(Ax-b) = 0.0001\n"
     ]
    }
   ],
   "source": [
    "print(f\"Number of iterations: {k}\")\n",
    "print(f\"Time elapsed: {round(elapsed_time, 4)} seconds\")\n",
    "print(f\"Treshold: {treshold}\")\n",
    "print(f\"norm_2(Ax-b) = {np.round(np.linalg.norm(A @ x_k_plus_1 - b, ord=2), 4)}\")"
   ]
  }
 ],
 "metadata": {
  "kernelspec": {
   "display_name": "Python 3 (ipykernel)",
   "language": "python",
   "name": "python3"
  },
  "language_info": {
   "codemirror_mode": {
    "name": "ipython",
    "version": 3
   },
   "file_extension": ".py",
   "mimetype": "text/x-python",
   "name": "python",
   "nbconvert_exporter": "python",
   "pygments_lexer": "ipython3",
   "version": "3.12.5"
  }
 },
 "nbformat": 4,
 "nbformat_minor": 5
}
