{
 "cells": [
  {
   "cell_type": "markdown",
   "metadata": {},
   "source": [
    "<h1 align=\"center\"> Google PageRank Algorithm </ha>"
   ]
  },
  {
   "cell_type": "markdown",
   "metadata": {},
   "source": [
    "#### Import required modules"
   ]
  },
  {
   "cell_type": "code",
   "execution_count": 1,
   "metadata": {},
   "outputs": [],
   "source": [
    "import numpy as np\n",
    "import pandas as pd"
   ]
  },
  {
   "cell_type": "markdown",
   "metadata": {},
   "source": [
    "#### Initializing a network as a `dictionary` object"
   ]
  },
  {
   "cell_type": "code",
   "execution_count": 2,
   "metadata": {},
   "outputs": [],
   "source": [
    "net = {\n",
    "    \"1\": [2, 3],\n",
    "    \"2\": [],\n",
    "    \"3\": [1, 2, 5],\n",
    "    \"4\": [5, 6],\n",
    "    \"5\": [4, 6],\n",
    "    \"6\": [4],\n",
    "}"
   ]
  },
  {
   "cell_type": "markdown",
   "metadata": {},
   "source": [
    "#### Get the network size"
   ]
  },
  {
   "cell_type": "code",
   "execution_count": 3,
   "metadata": {},
   "outputs": [],
   "source": [
    "n = len(net)"
   ]
  },
  {
   "cell_type": "markdown",
   "metadata": {},
   "source": [
    "#### Constructing the **Hyperlinks** Matrix"
   ]
  },
  {
   "cell_type": "code",
   "execution_count": 4,
   "metadata": {},
   "outputs": [
    {
     "name": "stdout",
     "output_type": "stream",
     "text": [
      "[[0.         0.5        0.5        0.         0.         0.        ]\n",
      " [0.         0.         0.         0.         0.         0.        ]\n",
      " [0.33333333 0.33333333 0.         0.         0.33333333 0.        ]\n",
      " [0.         0.         0.         0.         0.5        0.5       ]\n",
      " [0.         0.         0.         0.5        0.         0.5       ]\n",
      " [0.         0.         0.         1.         0.         0.        ]]\n"
     ]
    }
   ],
   "source": [
    "H = np.zeros(shape=(n, n))\n",
    "\n",
    "for i in range(n):\n",
    "    node_links = net[str(i+1)]\n",
    "    for j in range(len(node_links)):\n",
    "        H[i, node_links[j]-1] = 1/len(node_links)\n",
    "\n",
    "print(H)"
   ]
  },
  {
   "cell_type": "markdown",
   "metadata": {},
   "source": [
    "#### Constructing the **Stochastic** Matrix"
   ]
  },
  {
   "cell_type": "code",
   "execution_count": 5,
   "metadata": {},
   "outputs": [
    {
     "name": "stdout",
     "output_type": "stream",
     "text": [
      "[[0.         0.5        0.5        0.         0.         0.        ]\n",
      " [0.16666667 0.16666667 0.16666667 0.16666667 0.16666667 0.16666667]\n",
      " [0.33333333 0.33333333 0.         0.         0.33333333 0.        ]\n",
      " [0.         0.         0.         0.         0.5        0.5       ]\n",
      " [0.         0.         0.         0.5        0.         0.5       ]\n",
      " [0.         0.         0.         1.         0.         0.        ]]\n"
     ]
    }
   ],
   "source": [
    "S = H.copy()\n",
    "\n",
    "for i in range(n):\n",
    "    node_links = net[str(i+1)]\n",
    "    if len(node_links) == 0:\n",
    "        S[i, :] = 1/n\n",
    "        \n",
    "print(S)"
   ]
  },
  {
   "cell_type": "markdown",
   "metadata": {},
   "source": [
    "#### Set the **Scaling Parameter**"
   ]
  },
  {
   "cell_type": "code",
   "execution_count": 6,
   "metadata": {},
   "outputs": [],
   "source": [
    "alpha = 0.85"
   ]
  },
  {
   "cell_type": "markdown",
   "metadata": {},
   "source": [
    "#### Constructing the **Teleportation** Matrix"
   ]
  },
  {
   "cell_type": "code",
   "execution_count": 7,
   "metadata": {},
   "outputs": [
    {
     "name": "stdout",
     "output_type": "stream",
     "text": [
      "[[1.16666667 1.16666667 1.16666667 1.16666667 1.16666667 1.16666667]\n",
      " [1.16666667 1.16666667 1.16666667 1.16666667 1.16666667 1.16666667]\n",
      " [1.16666667 1.16666667 1.16666667 1.16666667 1.16666667 1.16666667]\n",
      " [1.16666667 1.16666667 1.16666667 1.16666667 1.16666667 1.16666667]\n",
      " [1.16666667 1.16666667 1.16666667 1.16666667 1.16666667 1.16666667]\n",
      " [1.16666667 1.16666667 1.16666667 1.16666667 1.16666667 1.16666667]]\n"
     ]
    }
   ],
   "source": [
    "E = (1/n) + np.ones((n, n))\n",
    "print(E)"
   ]
  },
  {
   "cell_type": "markdown",
   "metadata": {},
   "source": [
    "#### Constructing the **Google** Matrix"
   ]
  },
  {
   "cell_type": "code",
   "execution_count": 8,
   "metadata": {},
   "outputs": [
    {
     "name": "stdout",
     "output_type": "stream",
     "text": [
      "[[0.175      0.6        0.6        0.175      0.175      0.175     ]\n",
      " [0.31666667 0.31666667 0.31666667 0.31666667 0.31666667 0.31666667]\n",
      " [0.45833333 0.45833333 0.175      0.175      0.45833333 0.175     ]\n",
      " [0.175      0.175      0.175      0.175      0.6        0.6       ]\n",
      " [0.175      0.175      0.175      0.6        0.175      0.6       ]\n",
      " [0.175      0.175      0.175      1.025      0.175      0.175     ]]\n"
     ]
    }
   ],
   "source": [
    "G = alpha * S + (1-alpha) * E\n",
    "print(G)"
   ]
  },
  {
   "cell_type": "markdown",
   "metadata": {},
   "source": [
    "#### Initializing the **PageRank** vector"
   ]
  },
  {
   "cell_type": "code",
   "execution_count": 9,
   "metadata": {},
   "outputs": [
    {
     "name": "stdout",
     "output_type": "stream",
     "text": [
      "[[0.16666667]\n",
      " [0.16666667]\n",
      " [0.16666667]\n",
      " [0.16666667]\n",
      " [0.16666667]\n",
      " [0.16666667]]\n"
     ]
    }
   ],
   "source": [
    "P = np.ones((n, 1)) * (1/n)\n",
    "print(P)"
   ]
  },
  {
   "cell_type": "markdown",
   "metadata": {},
   "source": [
    "#### Performing Google's Adjusted PageRank Method"
   ]
  },
  {
   "cell_type": "code",
   "execution_count": 10,
   "metadata": {},
   "outputs": [],
   "source": [
    "k = 10\n",
    "for i in range(k):\n",
    "    V = P.T @ G\n",
    "    P = V.T.copy()"
   ]
  },
  {
   "cell_type": "markdown",
   "metadata": {},
   "source": [
    "#### Printing the results table"
   ]
  },
  {
   "cell_type": "code",
   "execution_count": 11,
   "metadata": {},
   "outputs": [
    {
     "data": {
      "text/html": [
       "<div>\n",
       "<style scoped>\n",
       "    .dataframe tbody tr th:only-of-type {\n",
       "        vertical-align: middle;\n",
       "    }\n",
       "\n",
       "    .dataframe tbody tr th {\n",
       "        vertical-align: top;\n",
       "    }\n",
       "\n",
       "    .dataframe thead th {\n",
       "        text-align: right;\n",
       "    }\n",
       "</style>\n",
       "<table border=\"1\" class=\"dataframe\">\n",
       "  <thead>\n",
       "    <tr style=\"text-align: right;\">\n",
       "      <th></th>\n",
       "      <th>Ranks</th>\n",
       "    </tr>\n",
       "    <tr>\n",
       "      <th>Page</th>\n",
       "      <th></th>\n",
       "    </tr>\n",
       "  </thead>\n",
       "  <tbody>\n",
       "    <tr>\n",
       "      <th>1</th>\n",
       "      <td>75.297757</td>\n",
       "    </tr>\n",
       "    <tr>\n",
       "      <th>2</th>\n",
       "      <td>92.140734</td>\n",
       "    </tr>\n",
       "    <tr>\n",
       "      <th>3</th>\n",
       "      <td>80.183500</td>\n",
       "    </tr>\n",
       "    <tr>\n",
       "      <th>4</th>\n",
       "      <td>140.245274</td>\n",
       "    </tr>\n",
       "    <tr>\n",
       "      <th>5</th>\n",
       "      <td>106.668312</td>\n",
       "    </tr>\n",
       "    <tr>\n",
       "      <th>6</th>\n",
       "      <td>118.571050</td>\n",
       "    </tr>\n",
       "  </tbody>\n",
       "</table>\n",
       "</div>"
      ],
      "text/plain": [
       "           Ranks\n",
       "Page            \n",
       "1      75.297757\n",
       "2      92.140734\n",
       "3      80.183500\n",
       "4     140.245274\n",
       "5     106.668312\n",
       "6     118.571050"
      ]
     },
     "execution_count": 11,
     "metadata": {},
     "output_type": "execute_result"
    }
   ],
   "source": [
    "df = pd.DataFrame(data=P, columns=[\"Ranks\"])\n",
    "df.index = range(1, n+1)\n",
    "df.index.name = \"Page\"\n",
    "df"
   ]
  }
 ],
 "metadata": {
  "kernelspec": {
   "display_name": "Python 3",
   "language": "python",
   "name": "python3"
  },
  "language_info": {
   "codemirror_mode": {
    "name": "ipython",
    "version": 3
   },
   "file_extension": ".py",
   "mimetype": "text/x-python",
   "name": "python",
   "nbconvert_exporter": "python",
   "pygments_lexer": "ipython3",
   "version": "3.12.5"
  }
 },
 "nbformat": 4,
 "nbformat_minor": 2
}
