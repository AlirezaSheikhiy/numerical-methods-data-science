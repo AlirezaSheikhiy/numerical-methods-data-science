{
 "cells": [
  {
   "cell_type": "markdown",
   "id": "2041dd7c-048d-406b-b912-5f1f5a285a3f",
   "metadata": {},
   "source": [
    "<h1 align=\"center\"> Singular Values Decomposition (SVD) </h1>"
   ]
  },
  {
   "cell_type": "markdown",
   "id": "6f0d6d1b-8fb3-498e-9d1e-906460a5a54f",
   "metadata": {},
   "source": [
    "### Import required libraries"
   ]
  },
  {
   "cell_type": "code",
   "execution_count": 21,
   "id": "34ca5329-589f-463a-bd29-6c05326800ed",
   "metadata": {},
   "outputs": [],
   "source": [
    "import numpy as np\n",
    "import pandas as pd\n",
    "import scipy"
   ]
  },
  {
   "cell_type": "markdown",
   "id": "b0c83e74-569a-40d1-b068-25d7aea351f6",
   "metadata": {},
   "source": [
    "### Singular Values Decomposition method"
   ]
  },
  {
   "cell_type": "code",
   "execution_count": 98,
   "id": "64438565-e00a-4fec-b699-90d213ab1935",
   "metadata": {},
   "outputs": [],
   "source": [
    "def SVD(A):\n",
    "    B = A.T @ A\n",
    "    C = A @ A.T\n",
    "\n",
    "    eigenvalues_B, V = np.linalg.eig(B)\n",
    "    eigenvalues_C, U = np.linalg.eig(C)\n",
    "\n",
    "    # eigenvalues_B, V = np.linalg.eigh(B)\n",
    "    # eigenvalues_C, U = np.linalg.eigh(C)\n",
    "\n",
    "    \"\"\" Normalizing U and V matrices\n",
    "    for i in range(len(V)):\n",
    "        V[:,i] = V[:, i] / np.linalg.norm(V[:, i], ord=2)\n",
    "    \n",
    "    for i in range(len(U)):\n",
    "        U[:, i] = U[:, i] / np.linalg.norm(U[:, i], ord=2)\n",
    "    \"\"\"\n",
    "\n",
    "    sorted_indices_B = np.argsort(eigenvalues_B)[::-1]\n",
    "    eigenvalues_B = eigenvalues_B[sorted_indices_B]\n",
    "    V = V[:, sorted_indices_B]\n",
    "\n",
    "    singularvalues = np.sqrt(eigenvalues_B)\n",
    "\n",
    "    Sigma = np.zeros(A.shape)\n",
    "    np.fill_diagonal(Sigma, singularvalues)\n",
    "\n",
    "    sorted_indices_C = np.argsort(eigenvalues_C)[::-1]\n",
    "    eigenvalues_C = eigenvalues_C[sorted_indices_C]\n",
    "    U = U[:, sorted_indices_C]\n",
    "\n",
    "    \"\"\" Adjust signs of U and V to ensure consistency\n",
    "    for i in range(len(singularvalues)):\n",
    "        if U[0, i] < 0:\n",
    "            U[:, i] = -U[:, i]\n",
    "        if V[i, 0] < 0:\n",
    "            V[:, i] = -V[:, i]\n",
    "    \"\"\"\n",
    "    \n",
    "    return U, Sigma, V.T"
   ]
  },
  {
   "cell_type": "markdown",
   "id": "26b2cee5-4464-4b7e-8172-9f4f70aa0182",
   "metadata": {},
   "source": [
    "### A method to calculate matrix rank using SVD"
   ]
  },
  {
   "cell_type": "code",
   "execution_count": 99,
   "id": "88ae0bb8-e341-4ffc-81b6-b0b408a150b6",
   "metadata": {},
   "outputs": [],
   "source": [
    "def rank(A, threshold = 0):\n",
    "    _, S, _ = SVD(A)\n",
    "    return np.sum(np.diag(S) > threshold)"
   ]
  },
  {
   "cell_type": "markdown",
   "id": "6ffe8724-e89f-47b2-9b51-727e207b34c3",
   "metadata": {},
   "source": [
    "### Driver code"
   ]
  },
  {
   "cell_type": "code",
   "execution_count": 100,
   "id": "a5e126ab-01d7-4d69-aa9c-86344e6cfb9f",
   "metadata": {},
   "outputs": [],
   "source": [
    "# Initialize matrix 'A'\n",
    "A = np.array([[0.96, 1.72], [2.28, 0.96]])\n",
    "# A = np.array([[0, -1.6, 0.6], [0, 1.2, 0.8], [0, 0, 0], [0, 0, 0]])\n",
    "# A = np.array([[-2, 1, 2], [6, 6, 2]])"
   ]
  },
  {
   "cell_type": "code",
   "execution_count": 101,
   "id": "bbc86ffd-246d-474e-8040-6eb118764264",
   "metadata": {},
   "outputs": [],
   "source": [
    "# Using SVD() method to extract values\n",
    "U, S, VT = SVD(A)"
   ]
  },
  {
   "cell_type": "code",
   "execution_count": 102,
   "id": "821b0ebe-8948-4182-9f3c-86f7770f22b7",
   "metadata": {},
   "outputs": [],
   "source": [
    "# Reconstruct the original matrix from U, Sigma, and VT\n",
    "A_hat = U @ S @ VT"
   ]
  },
  {
   "cell_type": "code",
   "execution_count": 103,
   "id": "70c7a7df-2850-4943-8034-e087691bdedf",
   "metadata": {},
   "outputs": [],
   "source": [
    "# Calculate the norm_2 of the difference between A and its reconstruction\n",
    "norm2 = np.linalg.norm((A - A_hat), ord=2)"
   ]
  },
  {
   "cell_type": "code",
   "execution_count": 109,
   "id": "4231900b-bc6b-4b67-8b14-77e8bcbd5768",
   "metadata": {},
   "outputs": [
    {
     "name": "stdout",
     "output_type": "stream",
     "text": [
      "U =\n",
      "-0.6 -0.8\n",
      "-0.8  0.6\n",
      "\n",
      "Sigma =\n",
      "3.0 0.0\n",
      "0.0 1.0\n",
      "\n",
      "V.T =\n",
      " 0.8 0.6\n",
      "-0.6 0.8\n"
     ]
    }
   ],
   "source": [
    "# Print the results\n",
    "print(\"U =\")\n",
    "print(pd.DataFrame(U.round(4)).to_string(index=False, header=False))\n",
    "print(\"\\nSigma =\")\n",
    "print(pd.DataFrame(S.round(4)).to_string(index=False, header=False))\n",
    "print(\"\\nV.T =\")\n",
    "print(pd.DataFrame(VT.round(4)).to_string(index=False, header=False))"
   ]
  },
  {
   "cell_type": "code",
   "execution_count": 107,
   "id": "203d26d7-8d66-4714-9c7e-28b091e69c48",
   "metadata": {},
   "outputs": [
    {
     "name": "stdout",
     "output_type": "stream",
     "text": [
      "A =\n",
      "0.96 1.72\n",
      "2.28 0.96\n",
      "\n",
      "A_hat =\n",
      "-0.96 -1.72\n",
      "-2.28 -0.96\n"
     ]
    }
   ],
   "source": [
    "print(\"A =\")\n",
    "print(pd.DataFrame(A.round(4)).to_string(index=False, header=False))\n",
    "print(\"\\nA_hat =\")\n",
    "print(pd.DataFrame(A_hat.round(4)).to_string(index=False, header=False))"
   ]
  },
  {
   "cell_type": "code",
   "execution_count": 108,
   "id": "17aeee2e-e80f-4702-b053-d57da11f139f",
   "metadata": {},
   "outputs": [
    {
     "name": "stdout",
     "output_type": "stream",
     "text": [
      "Rank = 2\n",
      "norm2(A - A_hat) = 6.0\n"
     ]
    }
   ],
   "source": [
    "print(f\"Rank = {rank(A)}\")\n",
    "print(f\"norm2(A - A_hat) = {norm2}\")"
   ]
  }
 ],
 "metadata": {
  "kernelspec": {
   "display_name": "Python 3 (ipykernel)",
   "language": "python",
   "name": "python3"
  },
  "language_info": {
   "codemirror_mode": {
    "name": "ipython",
    "version": 3
   },
   "file_extension": ".py",
   "mimetype": "text/x-python",
   "name": "python",
   "nbconvert_exporter": "python",
   "pygments_lexer": "ipython3",
   "version": "3.12.5"
  }
 },
 "nbformat": 4,
 "nbformat_minor": 5
}
